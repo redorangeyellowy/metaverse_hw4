{
  "nbformat": 4,
  "nbformat_minor": 0,
  "metadata": {
    "accelerator": "GPU",
    "colab": {
      "name": "SMPLpix training.ipynb",
      "provenance": [],
      "collapsed_sections": [],
      "machine_shape": "hm"
    },
    "kernelspec": {
      "display_name": "Python 3",
      "name": "python3"
    },
    "language_info": {
      "name": "python"
    }
  },
  "cells": [
    {
      "cell_type": "markdown",
      "metadata": {
        "id": "w3rYnZGzpAkn"
      },
      "source": [
        "![](https://user-images.githubusercontent.com/8117267/116595226-621dc600-a923-11eb-85d4-f52a5b9f265c.gif)\n",
        "###SMPLpix Training Demo.\n",
        "\n",
        "**Author**: [Sergey Prokudin](https://ps.is.mpg.de/people/sprokudin). \n",
        "[[Project Page](https://sergeyprokudin.github.io/smplpix/)]\n",
        "[[Paper](https://arxiv.org/pdf/2008.06872.pdf)]\n",
        "[[Video](https://www.youtube.com/watch?v=JY9t4xUAouk)]\n",
        "[[GitHub](https://github.com/sergeyprokudin/smplpix)]\n",
        "\n",
        "This notebook contains an example of training script for SMPLpix rendering module. \n",
        "\n",
        "To prepare the data with your own video, use the [SMPLpix dataset preparation notebook](https://colab.research.google.com/github//sergeyprokudin/smplpix/blob/main/colab_notebooks/Convert_Video_to_SMPLpix_Dataset.ipynb)."
      ]
    },
    {
      "cell_type": "markdown",
      "metadata": {
        "id": "2uwGj2Zfz-2S"
      },
      "source": [
        "### Install the SMPLpix framework:\n",
        "\n"
      ]
    },
    {
      "cell_type": "code",
      "metadata": {
        "id": "ZEiojUz_qaqp"
      },
      "source": [
        "!git clone https://github.com/sergeyprokudin/smplpix\n",
        "%cd /content/smplpix\n",
        "!python setup.py install"
      ],
      "execution_count": null,
      "outputs": []
    },
    {
      "cell_type": "markdown",
      "metadata": {
        "id": "xsWo4DAdyIxZ"
      },
      "source": [
        "### To train the model on the provided [demo dataset](https://www.dropbox.com/s/coapl05ahqalh09/smplpix_data_test_final.zip?dl=0), simply run:"
      ]
    },
    {
      "cell_type": "code",
      "metadata": {
        "id": "NdhVaGJzwnM2"
      },
      "source": [
        "!cd /content/smplpix\n",
        "!python smplpix/train.py \\\n",
        "        --workdir='/content/smplpix_logs/' \\\n",
        "        --resume_training=0 \\\n",
        "        --data_url='https://www.dropbox.com/s/coapl05ahqalh09/smplpix_data_test_final.zip?dl=0' \\\n",
        "        --downsample_factor=4 \\\n",
        "        --n_epochs=200 \\\n",
        "        --sched_patience=2 \\\n",
        "        --eval_every_nth_epoch=10 \\\n",
        "        --batch_size=4 \\\n",
        "        --learning_rate=1.0e-3 \\\n",
        "        --n_unet_blocks=5 \\\n",
        "        --aug_prob=0.0"
      ],
      "execution_count": null,
      "outputs": []
    },
    {
      "cell_type": "markdown",
      "metadata": {
        "id": "bO4OIRJJpDAC"
      },
      "source": [
        "### Optionally, we can continue training and finetune the network with lower learning rate:"
      ]
    },
    {
      "cell_type": "code",
      "metadata": {
        "id": "HoWDXi3SQByO"
      },
      "source": [
        "!python smplpix/train.py \\\n",
        "        --workdir='/content/smplpix_logs/' \\\n",
        "        --resume_training=1 \\\n",
        "        --data_dir='/content/smplpix_logs/smplpix_data' \\\n",
        "        --downsample_factor=4 \\\n",
        "        --n_epochs=50 \\\n",
        "        --sched_patience=2 \\\n",
        "        --eval_every_nth_epoch=10 \\\n",
        "        --batch_size=4 \\\n",
        "        --learning_rate=1.0e-4 \\\n",
        "        --n_unet_blocks=5"
      ],
      "execution_count": null,
      "outputs": []
    },
    {
      "cell_type": "markdown",
      "metadata": {
        "id": "fhKhReRYM0Ri"
      },
      "source": [
        "### To evaluate the model on the test images, run:"
      ]
    },
    {
      "cell_type": "code",
      "metadata": {
        "id": "C1iKU3dXP7ea"
      },
      "source": [
        "!python smplpix/eval.py \\\n",
        "        --workdir='/content/eval_logs/' \\\n",
        "        --checkpoint_path='/content/smplpix_logs/network.h5' \\\n",
        "        --data_dir='/content/smplpix_logs/smplpix_data/test' \\\n",
        "        --downsample_factor=4 \\\n",
        "        --save_target=1 "
      ],
      "execution_count": null,
      "outputs": []
    },
    {
      "cell_type": "code",
      "metadata": {
        "cellView": "form",
        "id": "AYpNcVKiMzB_"
      },
      "source": [
        "# @markdown ###Play the generated test video\n",
        "from IPython.display import HTML\n",
        "from base64 import b64encode\n",
        "mp4 = open('/content/eval_logs/test_animation.mp4','rb').read()\n",
        "data_url = \"data:video/mp4;base64,\" + b64encode(mp4).decode()\n",
        "HTML(\"\"\"\n",
        "<video width=400 controls>\n",
        "      <source src=\"%s\" type=\"video/mp4\">\n",
        "</video>\n",
        "\"\"\" % data_url)"
      ],
      "execution_count": null,
      "outputs": []
    }
  ]
}